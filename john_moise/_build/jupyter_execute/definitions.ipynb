{
 "cells": [
  {
   "cell_type": "markdown",
   "id": "44328050-fe91-42ea-8566-ae0986a55de3",
   "metadata": {},
   "source": [
    "# Appendix A: Definitions\n",
    "\n",
    "### <a id=\"bayes\"></a>Bayes' Theorem\n",
    "\n",
    "### <a id=\"MAP\"></a>Maximum a Posteriori (MAP)\n",
    "\n",
    "The maximum a posteriori  (MAP) represents the most probable value of the parameter of interest given the data\n",
    "\n",
    "$$\\hat{\\theta}_{\\text{MAP}}\\stackrel{\\text{def}}{=}\\underset{\\theta}{argmax}P(\\theta|x)=\\underset{\\theta}{argmax}P(x|\\theta)P(\\theta)$$\n",
    "\n",
    "### <a id=\"HDI\"></a>Highest Density Interval (HDI)\n",
    "\n",
    "The highest density interval (HDI) is the narrowest interval over the posterior distribution in which the parameter will fall with a given total probability (i.e. a 95% credible interval).\n",
    "\n",
    "$$HDI=\\{p:P(p|n,s,\\alpha,\\beta)\\ge p^*\\}$$\n",
    "\n",
    "where $p^*$ satisfies the following equality \n",
    "\n",
    "$$T=\\int_{p:P(p|n,s,\\alpha,\\beta)\\ge p^*}P(p|n,s,\\alpha,\\beta)dp$$\n",
    "\n",
    "if $T\\in[0,1]$ represents the desired total probability (or credibility level).\n",
    "\n",
    "### <a id=\"PPD\"></a>Posterior Predictive Distribution (PPD)\n",
    "\n",
    "In Bayesian statistics, the posterior predictive distribution (PPD) is the distribution of possible future values $x$ conditioned on the set of previously observed values $\\mathbb{X}=\\{x_1,...,x_{|\\mathbb{X}|}\\}$ with given size $|\\mathbb{X}|$ which are drawn from a distribution that depends on parameter $\\theta\\in\\Theta$ where $\\Theta$ is the complete parameter space.\n",
    "\n",
    "The PPD is calculated by the marginalization of the likelihood $P(x|\\theta)$ over the posterior distribution of $P(\\theta|\\mathbb{X})$.\n",
    "\n",
    "$$PPD\\stackrel{\\text{def}}{=} P(x|\\mathbb{X})=\\int_{\\theta}P(x|\\theta)P(\\theta|\\mathbb{X})d\\theta$$\n",
    "\n",
    "---\n",
    "\n",
    "## Notation\n",
    "\n",
    "The above definitions and much of this website use the following notation; however, do note that specific subsections of the website may have slight variations of this notation in order to either\n",
    "1. avoid confusion between two symbols or avoid ascribing two meanings to one symbol\n",
    "2. better conform to the standard notation associated with a given distribution or function\n",
    "\n",
    "#### Conditional Probability\n",
    "- $P(a)$ represents the probability of $a$.\n",
    "- $P(a|b)$ represents the probability of $a$ conditioned on $b$.\n",
    "\n",
    "#### Fonts for Algebraic Structures\n",
    "- $\\vec{\\textbf{a}}=\\begin{bmatrix}a_{11}\\\\a_{21}\\end{bmatrix}$ represents a vector.\n",
    "- $\\textbf{A}=\\begin{bmatrix}a_{11}&a_{12}\\\\a_{21}&a_{22}\\end{bmatrix}$ represents a matrix.\n",
    "- $\\mathbb{A}=\\{a_1,...,a_{|\\mathbb{A}|}\\}$ represents a set.\n",
    "\n",
    "#### Parameters and Data\n",
    "- $\\Theta$ represents the total parameter space. \n",
    "- $\\theta\\in\\Theta$ represents the parameter of interest within the parameter space (most often the one being marginalized) while $\\Theta\\backslash\\{\\theta\\}$ represents the set of marginal parameters which remain after marginalization.\n",
    "- $\\mathbb{X}$ is a set of previously observed values$\\{x_1,...,x_{|\\mathbb{X}|}\\}$ with given size $|\\mathbb{X}|$"
   ]
  }
 ],
 "metadata": {
  "kernelspec": {
   "display_name": "Python 3 (ipykernel)",
   "language": "python",
   "name": "python3"
  },
  "language_info": {
   "codemirror_mode": {
    "name": "ipython",
    "version": 3
   },
   "file_extension": ".py",
   "mimetype": "text/x-python",
   "name": "python",
   "nbconvert_exporter": "python",
   "pygments_lexer": "ipython3",
   "version": "3.9.13"
  }
 },
 "nbformat": 4,
 "nbformat_minor": 5
}