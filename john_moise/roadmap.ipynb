{
 "cells": [
  {
   "cell_type": "markdown",
   "id": "f3e5b8c2-cb66-4a81-a3fa-678f5cd77394",
   "metadata": {},
   "source": [
    "# Roadmap\n",
    "1. Analytical Bayesian Methods\n",
    "    - Discrete Distributions\n",
    "        - [ ] Binomial with beta prior\n",
    "        - Multinomial with dirichlet prior\n",
    "        - Poisson with gamma prior\n",
    "    - Continuous Distributions\n",
    "        - Normal with various priors\n",
    "            - known variance $\\sigma^2$ with normal prior\n",
    "            - known mean $\\mu$ with scaled-inverse chi squared prior\n",
    "            - unknown variance $\\sigma^2$ and mean $\\mu$ (assuming exchangability) with normal-inverse gamma prior\n",
    "        - Multivariate normal with various priors\n",
    "            - known covariance matrix $\\boldsymbol{\\Sigma}$ with multivariate normal prior\n",
    "            - Multivariate normal with known mean vector$\\vec{\\boldsymbol{\\mu}}$ with inverse-wishart prior\n",
    "            - Multivariate normal with unknown mean vector$\\vec{\\boldsymbol{\\mu}}$ and covariance matrix $\\boldsymbol{\\Sigma}$ with normal-inverse-wishart prior\n",
    "        - Exponential with gamma prior\n",
    "1. Computational Bayesian Methods\n",
    "    - MCMC Algorithms incl. NUTS Sampler\n",
    "    - Linear Regression\n",
    "    - Hierarchical Models\n",
    "1. Medical Bayesian Statistics\n",
    "    - Medical Testing\n",
    "    - Survival Curves\n",
    "1. Appendices\n",
    "    - Appendix A: Important Theorems\n",
    "\n",
    "- Organize by theory and case study\n"
   ]
  }
 ],
 "metadata": {
  "kernelspec": {
   "display_name": "Python 3 (ipykernel)",
   "language": "python",
   "name": "python3"
  },
  "language_info": {
   "codemirror_mode": {
    "name": "ipython",
    "version": 3
   },
   "file_extension": ".py",
   "mimetype": "text/x-python",
   "name": "python",
   "nbconvert_exporter": "python",
   "pygments_lexer": "ipython3",
   "version": "3.9.13"
  }
 },
 "nbformat": 4,
 "nbformat_minor": 5
}
