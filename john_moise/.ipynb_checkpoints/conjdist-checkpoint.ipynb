{
 "cells": [
  {
   "cell_type": "markdown",
   "id": "4c265521-2979-4c55-8939-ad241bfd205b",
   "metadata": {},
   "source": [
    "# Conjugate Distributions\n",
    "\n",
    "When using [Bayes' theorem](definitions.ipynb#bayes) to calculate the posterior distribution for a parameter of a given system, it is sometimes possible to select a prior distribution that, in combination with the likelihood, results in closed-form analytical solutions for the posterior distribution, circumventing the need for computationally-intensive numerical integration. In these scenarios, when a prior and posterior are of the same probability distribution, the distribution is said to be conjugate to the likelihood.\n",
    "\n",
    "The following pages will delve further into these conjugate distributions and show through motivated examples how to apply them in appropriate scenarios."
   ]
  }
 ],
 "metadata": {
  "kernelspec": {
   "display_name": "Python 3 (ipykernel)",
   "language": "python",
   "name": "python3"
  },
  "language_info": {
   "codemirror_mode": {
    "name": "ipython",
    "version": 3
   },
   "file_extension": ".py",
   "mimetype": "text/x-python",
   "name": "python",
   "nbconvert_exporter": "python",
   "pygments_lexer": "ipython3",
   "version": "3.9.13"
  }
 },
 "nbformat": 4,
 "nbformat_minor": 5
}
