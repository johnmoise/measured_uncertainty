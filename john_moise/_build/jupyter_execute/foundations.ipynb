{
 "cells": [
  {
   "cell_type": "markdown",
   "id": "943de4ab-2a7b-4263-beea-e0eaa1360e1d",
   "metadata": {},
   "source": [
    "# Foundations of Bayesian Statistics\n",
    "\n",
    "````{prf:theorem} Orthogonal-Projection-Theorem\n",
    ":label: my-theorem\n",
    "\n",
    "Given $y \\in \\mathbb R^n$ and linear subspace $S \\subset \\mathbb R^n$,\n",
    "there exists a unique solution to the minimization problem\n",
    "\n",
    "```{math}\n",
    "\\hat y := \\argmin_{z \\in S} \\|y - z\\|\n",
    "```\n",
    "\n",
    "The minimizer $\\hat y$ is the unique vector in $\\mathbb R^n$ that satisfies\n",
    "\n",
    "* $\\hat y \\in S$\n",
    "\n",
    "* $y - \\hat y \\perp S$\n",
    "\n",
    "\n",
    "The vector $\\hat y$ is called the **orthogonal projection** of $y$ onto $S$.\n",
    "````"
   ]
  }
 ],
 "metadata": {
  "kernelspec": {
   "display_name": "Python 3 (ipykernel)",
   "language": "python",
   "name": "python3"
  },
  "language_info": {
   "codemirror_mode": {
    "name": "ipython",
    "version": 3
   },
   "file_extension": ".py",
   "mimetype": "text/x-python",
   "name": "python",
   "nbconvert_exporter": "python",
   "pygments_lexer": "ipython3",
   "version": "3.9.13"
  }
 },
 "nbformat": 4,
 "nbformat_minor": 5
}