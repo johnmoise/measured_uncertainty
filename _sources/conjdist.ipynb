{
 "cells": [
  {
   "cell_type": "markdown",
   "id": "4c265521-2979-4c55-8939-ad241bfd205b",
   "metadata": {},
   "source": [
    "# Conjugate Distributions\n",
    "\n",
    "When using [Bayes' theorem](definitions.ipynb#bayes) to calculate the posterior distribution for a parameter of a given system, it is sometimes possible to select a prior distribution that, in combination with the likelihood, results in closed-form analytical solutions for the posterior distribution, thereby circumventing the need for numerical integration. In these scenarios, when a prior and posterior are of the same probability distribution, the distribution is said to be conjugate to the likelihood.\n",
    "\n",
    "We will begin our exploration of the convenience and power of conjugancy by looking at three discrete distributions and their respective conjugate distributions.\n",
    "\n",
    "|Likelihood Function|Conjugate Distribution|\n",
    "|:-:|:-:|\n",
    "|Binomial($x|n,p$)|Beta($p|\\alpha,\\beta$)|\n",
    "|Multinomial($\\vec{\\textbf{x}}|n,\\vec{\\textbf{p}}$)|Dirichlet($\\vec{\\textbf{p}}|\\vec{\\boldsymbol{\\alpha}}$)|\n",
    "|Poisson($x|\\lambda$)|Gamma($\\lambda|\\alpha,\\beta$)|\n",
    "\n",
    "Followed by an exploration of three families of continous distributions under different assumptions of parameter knowledge.\n",
    "|Likelihood Function|Assumption|Conjugate Distribution|\n",
    "|:-:|:-:|:-:|\n",
    "|Normal|known variance $\\sigma^2$|Normal|\n",
    "|Normal|known mean $\\mu$|Scaled Inverse Chi-squared|\n",
    "|Normal|unknown variance $\\sigma^2$ and mean $\\mu$; <br> assuming exchangeability |Normal Inverse Gamma|\n",
    "|Multivariate Normal|known covariance matrix $\\boldsymbol{\\Sigma}$ |Multivariate Normal|\n",
    "|Multivariate Normal|known mean vector $\\vec{\\boldsymbol{\\mu}}$|Inverse Wishart|\n",
    "|Multivariate Normal|unknown covariance matrix $\\boldsymbol{\\Sigma}$ and mean vector $\\vec{\\boldsymbol{\\mu}}$; <br> assuming exchangeability|Normal Inverse Wishart|\n",
    "|Exponential|-|Gamma|\n",
    "\n",
    "\n",
    "The following pages will delve further into these conjugate distributions and show through motivated examples how to apply them in appropriate scenarios."
   ]
  }
 ],
 "metadata": {
  "kernelspec": {
   "display_name": "Python 3 (ipykernel)",
   "language": "python",
   "name": "python3"
  },
  "language_info": {
   "codemirror_mode": {
    "name": "ipython",
    "version": 3
   },
   "file_extension": ".py",
   "mimetype": "text/x-python",
   "name": "python",
   "nbconvert_exporter": "python",
   "pygments_lexer": "ipython3",
   "version": "3.9.13"
  }
 },
 "nbformat": 4,
 "nbformat_minor": 5
}
