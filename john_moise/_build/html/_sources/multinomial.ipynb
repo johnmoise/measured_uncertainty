{
 "cells": [
  {
   "cell_type": "markdown",
   "id": "73d9f0b7-1314-4f89-a5cd-b2c0ddf9f4ae",
   "metadata": {},
   "source": [
    "# Multinomial with Dirichlet Prior"
   ]
  },
  {
   "cell_type": "markdown",
   "id": "0e39b737-8a64-4bb8-9f74-8c7797266968",
   "metadata": {},
   "source": [
    "## Understanding the Multinomial Distribution\n",
    "The multinomial distribution is a higher-dimensional generalization of the binomial distribution. If one thinks of the binomial distribution as modeling the outcome probability of a coin (with two sides: heads and tails) flipped n times, the multinomial distribution extends this notion, modeling the outcome probability of a $k$-sided die rolled $n$ times.\n",
    "\n",
    "While each side of a fair $k$-sided die would be expected to have a probability of $\\frac{1}{k}$, the multinomial distribution does not restrict the die to being fair, instead allow each individual possible category to have its own probability, provided that the category probabilities are non-negative and the total probability sums to 1. More formally, let there be a set $\\mathbb{K}=\\{K_1,...,K_k\\}$ representing all possible categories (or sides of the die), where $k=|\\mathbb{K}|$. There then is a set $\\mathbb{P}=\\{p_1,...,p_k\\}$ which represents the set of probabilities corresponding to each category $K_i\\in\\mathbb{K}$.\n",
    "\n",
    "|Parameters of the Multinomial Distribution|Interpretation|\n",
    "|:-:|:-:|\n",
    "|$k\\in\\mathbb{N}$|number of categories|\n",
    "|$\\mathbb{K}=\\{K_1,...,K_k\\}$|set of categories|\n",
    "|$\\mathbb{P}=\\{p_1,...,p_k\\}$ where $0\\le p_i \\le 1$ and $\\sum\\mathbb{P}=1$|set of category probabilities|\n",
    "|$n\\in\\mathbb{N}$|number of trials|\n",
    "\n",
    "The probability mass function (PMF) of the multinomial distribution takes the following form:\n",
    "\n",
    "$$Multinomial(x|n,\\mathbb{P})=\\frac{\\Gamma\\left(\\sum_{i=1}^{k}x_i+1\\right)}{\\prod_{i=1}^{k}\\Gamma(x_i+1)}\\prod_{i=1}^{k}p_i^{x_i}$$\n",
    "\n",
    "Let us begin exploring this distribution by graphing the distribution of the expected value of 10 tosses of a fair 6-sided die.\n",
    "\n",
    "Thus, we have the following parameterization.\n",
    "$$k=6, n=10$$\n",
    "$$\\mathbb{K}=\\{1,2,3,4,5,6\\}$$\n",
    "$$\\mathbb{P}=\\{\\frac{1}{6},\\frac{1}{6},\\frac{1}{6},\\frac{1}{6},\\frac{1}{6},\\frac{1}{6}\\}$$"
   ]
  },
  {
   "cell_type": "code",
   "execution_count": 101,
   "id": "48e4b76a-e0bd-462d-92ef-cc1cc2dfb9d5",
   "metadata": {},
   "outputs": [
    {
     "data": {
      "image/png": "[encoded data removed]",
      "text/plain": [
       "<Figure size 640x480 with 1 Axes>"
      ]
     },
     "metadata": {},
     "output_type": "display_data"
    }
   ],
   "source": [
    "from scipy.stats import multinomial\n",
    "from itertools import product\n",
    "import numpy as np\n",
    "import matplotlib.pyplot as plt\n",
    "\n",
    "n = 10\n",
    "K = [1,2,3,4,5,6]\n",
    "k = len(K)\n",
    "P = k*[1/k]\n",
    "\n",
    "k_values = range(n*min(K),n*max(K)+1)\n",
    "combos = [combo for combo in product(range(0,(n+1)),repeat=k) if sum(combo) == n]\n",
    "dist = []\n",
    "for i in k_values:\n",
    "    filtered = [combo for combo in combos if np.dot(combo,K) == i]\n",
    "    dist.append(sum(multinomial.pmf(filtered,n,P)))\n",
    "\n",
    "plt.bar(k_values,dist)\n",
    "plt.show()"
   ]
  },
  {
   "cell_type": "markdown",
   "id": "ae983780-5cc1-403e-9dff-827e77076040",
   "metadata": {},
   "source": [
    "## Proving the Conjugacy of the Multinomial and Dirichlet Distribution\n",
    "\n",
    "If we take the multinomial distribution to be our likelihood function $p(x|n,\\mathbb{P})$, we would ideally like a prior distribution $p(\\mathbb{P})$ that is conjugate to the multinomial distribution such that we can analytically derive both the posterior distribution $p(\\mathbb{P}|\\mathbb{X})$ and posterior predictive distribution $p(\\tilde{x}|\\mathbb{X})$. \n",
    "\n",
    "As luck would have it, the PMF of the multinomial shows resemblance to the Dirichlet distribution, which we may use as its conjugate prior.\n",
    "\n",
    "The Dirichlet distribution probability density function takes the following form:\n",
    "\n",
    "$$Dirichlet(\\mathbb{P}|\\boldsymbol{\\alpha})=\\frac{\\Gamma\\left(\\sum_{i=1}^{k}\\alpha_i\\right)}{\\prod_{i=1}^{k}\\Gamma(\\alpha_i)}\\prod_{i=1}^{k}p_i^{\\alpha_i-1}$$\n",
    "\n",
    "with hyperparameter $\\boldsymbol{\\alpha}=\\{\\alpha_1,\\dots,\\alpha_k\\}$, $\\alpha_i\\in\\mathbb{N}$ representing the set of prior pseudocounts corresponding to each of the $k$ categories.\n",
    "\n",
    "Using Bayes' theorem and the knowledge that both distributions are already normalized, we can derive the form of the posterior distribution:\n",
    "\n",
    "$$\\begin{align}\n",
    "p(\\mathbb{P}|\\mathbb{X},\\boldsymbol{\\alpha}) & = p(\\mathbb{x}|\\mathbb{P})p(\\mathbb{P}|\\boldsymbol{\\alpha}) \\\\\n",
    "& = Multinomial(\\mathbb{x}|\\mathbb{P})\\cdot Dirichlet(\\mathbb{P}|\\boldsymbol{\\alpha}) \\\\\n",
    "& = \\frac{\\Gamma\\left(\\sum_{i=1}^{k}x_i+1\\right)}{\\prod_{i=1}^{k}\\Gamma(x_i+1)}\\prod_{i=1}^{k}p_i^{x_i}\\frac{\\Gamma\\left(\\sum_{i=1}^{k}\\alpha_i\\right)}{\\prod_{i=1}^{k}\\Gamma(\\alpha_i)}\\prod_{i=1}^{k}p_i^{\\alpha_i-1} \\\\\n",
    "& = \\frac{\\Gamma\\left(\\sum_{i=1}^{k}\\alpha_i+x_i+1\\right)}{\\prod_{i=1}^{k}\\Gamma(\\alpha_i+x_i+1)}\\prod_{i=1}^{k}p_i^{\\alpha_i+x_i-1} \\\\\n",
    "& = Dirichlet(\\mathbb{P}|\\boldsymbol{\\alpha}') \\\\\n",
    "\\end{align}$$\n",
    "\n",
    "with $\\boldsymbol{\\alpha}'=f(\\boldsymbol{\\alpha})$ where $f:\\boldsymbol{\\alpha}\\mapsto\\boldsymbol{\\alpha}'$ such that $\\forall i\\in\\{1,\\dots,k\\}, \\boldsymbol{\\alpha}'_i=\\boldsymbol{\\alpha}_i+x_i$, indicating that the hyperparameter of the posterior distribution can be analytically derived by the addition of observed counts of each category to the corresponding category pseudocount of the prior hyperparameter vector $\\boldsymbol{\\alpha}$."
   ]
  },
  {
   "cell_type": "markdown",
   "id": "89441379-b16b-4e02-b4c1-efe16270254e",
   "metadata": {},
   "source": [
    "## Deriving the PPD\n",
    "\n",
    "Finally we can leverage the posterior distribution towards calculating the posterior predictive distribution.\n",
    "\n",
    "$$\\begin{align}\n",
    "PPD & = p(\\tilde{\\mathbb{x}}|\\mathbb{X})=\\int_{\\mathbb{P}}p(\\tilde{\\mathbb{x}}|\\mathbb{P})\\,\\cdotp(\\mathbb{P}|\\mathbb{X},\\boldsymbol{\\alpha'})d\\mathbb{P} \\\\\n",
    "& = \\int_{\\mathbb{P}}Multinomial(\\tilde{\\mathbb{x}}|\\mathbb{P})\\cdot Dirichlet(\\mathbb{P}|\\mathbb{X},\\boldsymbol{\\alpha'})d\\mathbb{P} \\\\\n",
    "& = DirMult(\\tilde{\\mathbb{x}}|\\mathbb{X},\\boldsymbol{\\alpha'}) \\\\\n",
    "\\end{align}$$"
   ]
  },
  {
   "cell_type": "code",
   "execution_count": null,
   "id": "67439b77-b2d3-4897-ac68-8dfc183a07f5",
   "metadata": {},
   "outputs": [],
   "source": []
  },
  {
   "cell_type": "code",
   "execution_count": 193,
   "id": "e2cfb3eb-074f-4952-8ca6-293d152e193e",
   "metadata": {},
   "outputs": [
    {
     "data": {
      "application/vnd.plotly.v1+json": {
       "config": {
        "plotlyServerURL": "https://plot.ly"
       },
       "data": [
        {
         "a": [
          0.3333333333333333,
          0.25,
          0.2,
          0.3333333333333333,
          0.42857142857142855,
          0.375,
          0.3333333333333333,
          0.3,
          0.2727272727272727,
          0.3333333333333333,
          0.38461538461538464,
          0.35714285714285715,
          0.3333333333333333,
          0.375,
          0.35294117647058826,
          0.3888888888888889,
          0.42105263157894735
         ],
         "b": [
          0.3333333333333333,
          0.5,
          0.6,
          0.5,
          0.42857142857142855,
          0.375,
          0.4444444444444444,
          0.5,
          0.5454545454545454,
          0.5,
          0.46153846153846156,
          0.5,
          0.5333333333333333,
          0.5,
          0.5294117647058824,
          0.5,
          0.47368421052631576
         ],
         "c": [
          0.3333333333333333,
          0.25,
          0.2,
          0.16666666666666666,
          0.14285714285714285,
          0.25,
          0.2222222222222222,
          0.2,
          0.18181818181818182,
          0.16666666666666666,
          0.15384615384615385,
          0.14285714285714285,
          0.13333333333333333,
          0.125,
          0.11764705882352941,
          0.1111111111111111,
          0.10526315789473684
         ],
         "hovertemplate": "A=%{a}<br>W=%{b}<br>R=%{c}<br>σ²=%{marker.size}<br>date=%{marker.color}<extra></extra>",
         "legendgroup": "",
         "marker": {
          "color": [
           0,
           8,
           14,
           19,
           20,
           22,
           26,
           27,
           29,
           35,
           36,
           50,
           53,
           61,
           63,
           75,
           183
          ],
          "coloraxis": "coloraxis",
          "size": [
           0.16666666666666666,
           0.125,
           0.09333333333333334,
           0.0873015873015873,
           0.07653061224489796,
           0.07291666666666667,
           0.06419753086419754,
           0.056363636363636366,
           0.049586776859504134,
           0.04700854700854701,
           0.04395604395604395,
           0.04013605442176871,
           0.03666666666666667,
           0.034926470588235295,
           0.032295271049596314,
           0.030864197530864196,
           0.029362880886426593
          ],
          "sizemode": "area",
          "sizeref": 0.0007407407407407407,
          "symbol": "circle"
         },
         "mode": "markers",
         "name": "",
         "showlegend": false,
         "subplot": "ternary",
         "type": "scatterternary"
        }
       ],
       "layout": {
        "autosize": true,
        "coloraxis": {
         "colorbar": {
          "title": {
           "text": "date"
          }
         },
         "colorscale": [
          [
           0,
           "rgb(234, 252, 253)"
          ],
          [
           0.09090909090909091,
           "rgb(192, 229, 232)"
          ],
          [
           0.18181818181818182,
           "rgb(149, 207, 216)"
          ],
          [
           0.2727272727272727,
           "rgb(114, 184, 205)"
          ],
          [
           0.36363636363636365,
           "rgb(89, 159, 196)"
          ],
          [
           0.45454545454545453,
           "rgb(72, 134, 187)"
          ],
          [
           0.5454545454545454,
           "rgb(62, 109, 178)"
          ],
          [
           0.6363636363636364,
           "rgb(62, 83, 160)"
          ],
          [
           0.7272727272727273,
           "rgb(58, 60, 125)"
          ],
          [
           0.8181818181818182,
           "rgb(44, 42, 87)"
          ],
          [
           0.9090909090909091,
           "rgb(25, 25, 51)"
          ],
          [
           1,
           "rgb(3, 5, 18)"
          ]
         ]
        },
        "legend": {
         "itemsizing": "constant",
         "tracegroupgap": 0
        },
        "margin": {
         "t": 60
        },
        "template": {
         "data": {
          "bar": [
           {
            "error_x": {
             "color": "#2a3f5f"
            },
            "error_y": {
             "color": "#2a3f5f"
            },
            "marker": {
             "line": {
              "color": "#E5ECF6",
              "width": 0.5
             },
             "pattern": {
              "fillmode": "overlay",
              "size": 10,
              "solidity": 0.2
             }
            },
            "type": "bar"
           }
          ],
          "barpolar": [
           {
            "marker": {
             "line": {
              "color": "#E5ECF6",
              "width": 0.5
             },
             "pattern": {
              "fillmode": "overlay",
              "size": 10,
              "solidity": 0.2
             }
            },
            "type": "barpolar"
           }
          ],
          "carpet": [
           {
            "aaxis": {
             "endlinecolor": "#2a3f5f",
             "gridcolor": "white",
             "linecolor": "white",
             "minorgridcolor": "white",
             "startlinecolor": "#2a3f5f"
            },
            "baxis": {
             "endlinecolor": "#2a3f5f",
             "gridcolor": "white",
             "linecolor": "white",
             "minorgridcolor": "white",
             "startlinecolor": "#2a3f5f"
            },
            "type": "carpet"
           }
          ],
          "choropleth": [
           {
            "colorbar": {
             "outlinewidth": 0,
             "ticks": ""
            },
            "type": "choropleth"
           }
          ],
          "contour": [
           {
            "colorbar": {
             "outlinewidth": 0,
             "ticks": ""
            },
            "colorscale": [
             [
              0,
              "#0d0887"
             ],
             [
              0.1111111111111111,
              "#46039f"
             ],
             [
              0.2222222222222222,
              "#7201a8"
             ],
             [
              0.3333333333333333,
              "#9c179e"
             ],
             [
              0.4444444444444444,
              "#bd3786"
             ],
             [
              0.5555555555555556,
              "#d8576b"
             ],
             [
              0.6666666666666666,
              "#ed7953"
             ],
             [
              0.7777777777777778,
              "#fb9f3a"
             ],
             [
              0.8888888888888888,
              "#fdca26"
             ],
             [
              1,
              "#f0f921"
             ]
            ],
            "type": "contour"
           }
          ],
          "contourcarpet": [
           {
            "colorbar": {
             "outlinewidth": 0,
             "ticks": ""
            },
            "type": "contourcarpet"
           }
          ],
          "heatmap": [
           {
            "colorbar": {
             "outlinewidth": 0,
             "ticks": ""
            },
            "colorscale": [
             [
              0,
              "#0d0887"
             ],
             [
              0.1111111111111111,
              "#46039f"
             ],
             [
              0.2222222222222222,
              "#7201a8"
             ],
             [
              0.3333333333333333,
              "#9c179e"
             ],
             [
              0.4444444444444444,
              "#bd3786"
             ],
             [
              0.5555555555555556,
              "#d8576b"
             ],
             [
              0.6666666666666666,
              "#ed7953"
             ],
             [
              0.7777777777777778,
              "#fb9f3a"
             ],
             [
              0.8888888888888888,
              "#fdca26"
             ],
             [
              1,
              "#f0f921"
             ]
            ],
            "type": "heatmap"
           }
          ],
          "heatmapgl": [
           {
            "colorbar": {
             "outlinewidth": 0,
             "ticks": ""
            },
            "colorscale": [
             [
              0,
              "#0d0887"
             ],
             [
              0.1111111111111111,
              "#46039f"
             ],
             [
              0.2222222222222222,
              "#7201a8"
             ],
             [
              0.3333333333333333,
              "#9c179e"
             ],
             [
              0.4444444444444444,
              "#bd3786"
             ],
             [
              0.5555555555555556,
              "#d8576b"
             ],
             [
              0.6666666666666666,
              "#ed7953"
             ],
             [
              0.7777777777777778,
              "#fb9f3a"
             ],
             [
              0.8888888888888888,
              "#fdca26"
             ],
             [
              1,
              "#f0f921"
             ]
            ],
            "type": "heatmapgl"
           }
          ],
          "histogram": [
           {
            "marker": {
             "pattern": {
              "fillmode": "overlay",
              "size": 10,
              "solidity": 0.2
             }
            },
            "type": "histogram"
           }
          ],
          "histogram2d": [
           {
            "colorbar": {
             "outlinewidth": 0,
             "ticks": ""
            },
            "colorscale": [
             [
              0,
              "#0d0887"
             ],
             [
              0.1111111111111111,
              "#46039f"
             ],
             [
              0.2222222222222222,
              "#7201a8"
             ],
             [
              0.3333333333333333,
              "#9c179e"
             ],
             [
              0.4444444444444444,
              "#bd3786"
             ],
             [
              0.5555555555555556,
              "#d8576b"
             ],
             [
              0.6666666666666666,
              "#ed7953"
             ],
             [
              0.7777777777777778,
              "#fb9f3a"
             ],
             [
              0.8888888888888888,
              "#fdca26"
             ],
             [
              1,
              "#f0f921"
             ]
            ],
            "type": "histogram2d"
           }
          ],
          "histogram2dcontour": [
           {
            "colorbar": {
             "outlinewidth": 0,
             "ticks": ""
            },
            "colorscale": [
             [
              0,
              "#0d0887"
             ],
             [
              0.1111111111111111,
              "#46039f"
             ],
             [
              0.2222222222222222,
              "#7201a8"
             ],
             [
              0.3333333333333333,
              "#9c179e"
             ],
             [
              0.4444444444444444,
              "#bd3786"
             ],
             [
              0.5555555555555556,
              "#d8576b"
             ],
             [
              0.6666666666666666,
              "#ed7953"
             ],
             [
              0.7777777777777778,
              "#fb9f3a"
             ],
             [
              0.8888888888888888,
              "#fdca26"
             ],
             [
              1,
              "#f0f921"
             ]
            ],
            "type": "histogram2dcontour"
           }
          ],
          "mesh3d": [
           {
            "colorbar": {
             "outlinewidth": 0,
             "ticks": ""
            },
            "type": "mesh3d"
           }
          ],
          "parcoords": [
           {
            "line": {
             "colorbar": {
              "outlinewidth": 0,
              "ticks": ""
             }
            },
            "type": "parcoords"
           }
          ],
          "pie": [
           {
            "automargin": true,
            "type": "pie"
           }
          ],
          "scatter": [
           {
            "fillpattern": {
             "fillmode": "overlay",
             "size": 10,
             "solidity": 0.2
            },
            "type": "scatter"
           }
          ],
          "scatter3d": [
           {
            "line": {
             "colorbar": {
              "outlinewidth": 0,
              "ticks": ""
             }
            },
            "marker": {
             "colorbar": {
              "outlinewidth": 0,
              "ticks": ""
             }
            },
            "type": "scatter3d"
           }
          ],
          "scattercarpet": [
           {
            "marker": {
             "colorbar": {
              "outlinewidth": 0,
              "ticks": ""
             }
            },
            "type": "scattercarpet"
           }
          ],
          "scattergeo": [
           {
            "marker": {
             "colorbar": {
              "outlinewidth": 0,
              "ticks": ""
             }
            },
            "type": "scattergeo"
           }
          ],
          "scattergl": [
           {
            "marker": {
             "colorbar": {
              "outlinewidth": 0,
              "ticks": ""
             }
            },
            "type": "scattergl"
           }
          ],
          "scattermapbox": [
           {
            "marker": {
             "colorbar": {
              "outlinewidth": 0,
              "ticks": ""
             }
            },
            "type": "scattermapbox"
           }
          ],
          "scatterpolar": [
           {
            "marker": {
             "colorbar": {
              "outlinewidth": 0,
              "ticks": ""
             }
            },
            "type": "scatterpolar"
           }
          ],
          "scatterpolargl": [
           {
            "marker": {
             "colorbar": {
              "outlinewidth": 0,
              "ticks": ""
             }
            },
            "type": "scatterpolargl"
           }
          ],
          "scatterternary": [
           {
            "marker": {
             "colorbar": {
              "outlinewidth": 0,
              "ticks": ""
             }
            },
            "type": "scatterternary"
           }
          ],
          "surface": [
           {
            "colorbar": {
             "outlinewidth": 0,
             "ticks": ""
            },
            "colorscale": [
             [
              0,
              "#0d0887"
             ],
             [
              0.1111111111111111,
              "#46039f"
             ],
             [
              0.2222222222222222,
              "#7201a8"
             ],
             [
              0.3333333333333333,
              "#9c179e"
             ],
             [
              0.4444444444444444,
              "#bd3786"
             ],
             [
              0.5555555555555556,
              "#d8576b"
             ],
             [
              0.6666666666666666,
              "#ed7953"
             ],
             [
              0.7777777777777778,
              "#fb9f3a"
             ],
             [
              0.8888888888888888,
              "#fdca26"
             ],
             [
              1,
              "#f0f921"
             ]
            ],
            "type": "surface"
           }
          ],
          "table": [
           {
            "cells": {
             "fill": {
              "color": "#EBF0F8"
             },
             "line": {
              "color": "white"
             }
            },
            "header": {
             "fill": {
              "color": "#C8D4E3"
             },
             "line": {
              "color": "white"
             }
            },
            "type": "table"
           }
          ]
         },
         "layout": {
          "annotationdefaults": {
           "arrowcolor": "#2a3f5f",
           "arrowhead": 0,
           "arrowwidth": 1
          },
          "autotypenumbers": "strict",
          "coloraxis": {
           "colorbar": {
            "outlinewidth": 0,
            "ticks": ""
           }
          },
          "colorscale": {
           "diverging": [
            [
             0,
             "#8e0152"
            ],
            [
             0.1,
             "#c51b7d"
            ],
            [
             0.2,
             "#de77ae"
            ],
            [
             0.3,
             "#f1b6da"
            ],
            [
             0.4,
             "#fde0ef"
            ],
            [
             0.5,
             "#f7f7f7"
            ],
            [
             0.6,
             "#e6f5d0"
            ],
            [
             0.7,
             "#b8e186"
            ],
            [
             0.8,
             "#7fbc41"
            ],
            [
             0.9,
             "#4d9221"
            ],
            [
             1,
             "#276419"
            ]
           ],
           "sequential": [
            [
             0,
             "#0d0887"
            ],
            [
             0.1111111111111111,
             "#46039f"
            ],
            [
             0.2222222222222222,
             "#7201a8"
            ],
            [
             0.3333333333333333,
             "#9c179e"
            ],
            [
             0.4444444444444444,
             "#bd3786"
            ],
            [
             0.5555555555555556,
             "#d8576b"
            ],
            [
             0.6666666666666666,
             "#ed7953"
            ],
            [
             0.7777777777777778,
             "#fb9f3a"
            ],
            [
             0.8888888888888888,
             "#fdca26"
            ],
            [
             1,
             "#f0f921"
            ]
           ],
           "sequentialminus": [
            [
             0,
             "#0d0887"
            ],
            [
             0.1111111111111111,
             "#46039f"
            ],
            [
             0.2222222222222222,
             "#7201a8"
            ],
            [
             0.3333333333333333,
             "#9c179e"
            ],
            [
             0.4444444444444444,
             "#bd3786"
            ],
            [
             0.5555555555555556,
             "#d8576b"
            ],
            [
             0.6666666666666666,
             "#ed7953"
            ],
            [
             0.7777777777777778,
             "#fb9f3a"
            ],
            [
             0.8888888888888888,
             "#fdca26"
            ],
            [
             1,
             "#f0f921"
            ]
           ]
          },
          "colorway": [
           "#636efa",
           "#EF553B",
           "#00cc96",
           "#ab63fa",
           "#FFA15A",
           "#19d3f3",
           "#FF6692",
           "#B6E880",
           "#FF97FF",
           "#FECB52"
          ],
          "font": {
           "color": "#2a3f5f"
          },
          "geo": {
           "bgcolor": "white",
           "lakecolor": "white",
           "landcolor": "#E5ECF6",
           "showlakes": true,
           "showland": true,
           "subunitcolor": "white"
          },
          "hoverlabel": {
           "align": "left"
          },
          "hovermode": "closest",
          "mapbox": {
           "style": "light"
          },
          "paper_bgcolor": "white",
          "plot_bgcolor": "#E5ECF6",
          "polar": {
           "angularaxis": {
            "gridcolor": "white",
            "linecolor": "white",
            "ticks": ""
           },
           "bgcolor": "#E5ECF6",
           "radialaxis": {
            "gridcolor": "white",
            "linecolor": "white",
            "ticks": ""
           }
          },
          "scene": {
           "xaxis": {
            "backgroundcolor": "#E5ECF6",
            "gridcolor": "white",
            "gridwidth": 2,
            "linecolor": "white",
            "showbackground": true,
            "ticks": "",
            "zerolinecolor": "white"
           },
           "yaxis": {
            "backgroundcolor": "#E5ECF6",
            "gridcolor": "white",
            "gridwidth": 2,
            "linecolor": "white",
            "showbackground": true,
            "ticks": "",
            "zerolinecolor": "white"
           },
           "zaxis": {
            "backgroundcolor": "#E5ECF6",
            "gridcolor": "white",
            "gridwidth": 2,
            "linecolor": "white",
            "showbackground": true,
            "ticks": "",
            "zerolinecolor": "white"
           }
          },
          "shapedefaults": {
           "line": {
            "color": "#2a3f5f"
           }
          },
          "ternary": {
           "aaxis": {
            "gridcolor": "white",
            "linecolor": "white",
            "ticks": ""
           },
           "baxis": {
            "gridcolor": "white",
            "linecolor": "white",
            "ticks": ""
           },
           "bgcolor": "#E5ECF6",
           "caxis": {
            "gridcolor": "white",
            "linecolor": "white",
            "ticks": ""
           }
          },
          "title": {
           "x": 0.05
          },
          "xaxis": {
           "automargin": true,
           "gridcolor": "white",
           "linecolor": "white",
           "ticks": "",
           "title": {
            "standoff": 15
           },
           "zerolinecolor": "white",
           "zerolinewidth": 2
          },
          "yaxis": {
           "automargin": true,
           "gridcolor": "white",
           "linecolor": "white",
           "ticks": "",
           "title": {
            "standoff": 15
           },
           "zerolinecolor": "white",
           "zerolinewidth": 2
          }
         }
        },
        "ternary": {
         "aaxis": {
          "title": {
           "text": "A"
          }
         },
         "baxis": {
          "title": {
           "text": "W"
          }
         },
         "caxis": {
          "title": {
           "text": "R"
          }
         },
         "domain": {
          "x": [
           0,
           1
          ],
          "y": [
           0,
           1
          ]
         }
        }
       }
      },
      "image/png": "[encoded data removed]",
      "text/html": [
       "<div>                            <div id=\"77699415-1ca9-4704-aa39-54b67ae2c143\" class=\"plotly-graph-div\" style=\"height:525px; width:100%;\"></div>            <script type=\"text/javascript\">                require([\"plotly\"], function(Plotly) {                    window.PLOTLYENV=window.PLOTLYENV || {};                                    if (document.getElementById(\"77699415-1ca9-4704-aa39-54b67ae2c143\")) {                    Plotly.newPlot(                        \"77699415-1ca9-4704-aa39-54b67ae2c143\",                        [{\"a\":[0.3333333333333333,0.25,0.2,0.3333333333333333,0.42857142857142855,0.375,0.3333333333333333,0.3,0.2727272727272727,0.3333333333333333,0.38461538461538464,0.35714285714285715,0.3333333333333333,0.375,0.35294117647058826,0.3888888888888889,0.42105263157894735],\"b\":[0.3333333333333333,0.5,0.6,0.5,0.42857142857142855,0.375,0.4444444444444444,0.5,0.5454545454545454,0.5,0.46153846153846156,0.5,0.5333333333333333,0.5,0.5294117647058824,0.5,0.47368421052631576],\"c\":[0.3333333333333333,0.25,0.2,0.16666666666666666,0.14285714285714285,0.25,0.2222222222222222,0.2,0.18181818181818182,0.16666666666666666,0.15384615384615385,0.14285714285714285,0.13333333333333333,0.125,0.11764705882352941,0.1111111111111111,0.10526315789473684],\"hovertemplate\":\"A=%{a}<br>W=%{b}<br>R=%{c}<br>\\u03c3\\u00b2=%{marker.size}<br>date=%{marker.color}<extra></extra>\",\"legendgroup\":\"\",\"marker\":{\"color\":[0,8,14,19,20,22,26,27,29,35,36,50,53,61,63,75,183],\"coloraxis\":\"coloraxis\",\"size\":[0.16666666666666666,0.125,0.09333333333333334,0.0873015873015873,0.07653061224489796,0.07291666666666667,0.06419753086419754,0.056363636363636366,0.049586776859504134,0.04700854700854701,0.04395604395604395,0.04013605442176871,0.03666666666666667,0.034926470588235295,0.032295271049596314,0.030864197530864196,0.029362880886426593],\"sizemode\":\"area\",\"sizeref\":0.0007407407407407407,\"symbol\":\"circle\"},\"mode\":\"markers\",\"name\":\"\",\"showlegend\":false,\"subplot\":\"ternary\",\"type\":\"scatterternary\"}],                        {\"template\":{\"data\":{\"histogram2dcontour\":[{\"type\":\"histogram2dcontour\",\"colorbar\":{\"outlinewidth\":0,\"ticks\":\"\"},\"colorscale\":[[0.0,\"#0d0887\"],[0.1111111111111111,\"#46039f\"],[0.2222222222222222,\"#7201a8\"],[0.3333333333333333,\"#9c179e\"],[0.4444444444444444,\"#bd3786\"],[0.5555555555555556,\"#d8576b\"],[0.6666666666666666,\"#ed7953\"],[0.7777777777777778,\"#fb9f3a\"],[0.8888888888888888,\"#fdca26\"],[1.0,\"#f0f921\"]]}],\"choropleth\":[{\"type\":\"choropleth\",\"colorbar\":{\"outlinewidth\":0,\"ticks\":\"\"}}],\"histogram2d\":[{\"type\":\"histogram2d\",\"colorbar\":{\"outlinewidth\":0,\"ticks\":\"\"},\"colorscale\":[[0.0,\"#0d0887\"],[0.1111111111111111,\"#46039f\"],[0.2222222222222222,\"#7201a8\"],[0.3333333333333333,\"#9c179e\"],[0.4444444444444444,\"#bd3786\"],[0.5555555555555556,\"#d8576b\"],[0.6666666666666666,\"#ed7953\"],[0.7777777777777778,\"#fb9f3a\"],[0.8888888888888888,\"#fdca26\"],[1.0,\"#f0f921\"]]}],\"heatmap\":[{\"type\":\"heatmap\",\"colorbar\":{\"outlinewidth\":0,\"ticks\":\"\"},\"colorscale\":[[0.0,\"#0d0887\"],[0.1111111111111111,\"#46039f\"],[0.2222222222222222,\"#7201a8\"],[0.3333333333333333,\"#9c179e\"],[0.4444444444444444,\"#bd3786\"],[0.5555555555555556,\"#d8576b\"],[0.6666666666666666,\"#ed7953\"],[0.7777777777777778,\"#fb9f3a\"],[0.8888888888888888,\"#fdca26\"],[1.0,\"#f0f921\"]]}],\"heatmapgl\":[{\"type\":\"heatmapgl\",\"colorbar\":{\"outlinewidth\":0,\"ticks\":\"\"},\"colorscale\":[[0.0,\"#0d0887\"],[0.1111111111111111,\"#46039f\"],[0.2222222222222222,\"#7201a8\"],[0.3333333333333333,\"#9c179e\"],[0.4444444444444444,\"#bd3786\"],[0.5555555555555556,\"#d8576b\"],[0.6666666666666666,\"#ed7953\"],[0.7777777777777778,\"#fb9f3a\"],[0.8888888888888888,\"#fdca26\"],[1.0,\"#f0f921\"]]}],\"contourcarpet\":[{\"type\":\"contourcarpet\",\"colorbar\":{\"outlinewidth\":0,\"ticks\":\"\"}}],\"contour\":[{\"type\":\"contour\",\"colorbar\":{\"outlinewidth\":0,\"ticks\":\"\"},\"colorscale\":[[0.0,\"#0d0887\"],[0.1111111111111111,\"#46039f\"],[0.2222222222222222,\"#7201a8\"],[0.3333333333333333,\"#9c179e\"],[0.4444444444444444,\"#bd3786\"],[0.5555555555555556,\"#d8576b\"],[0.6666666666666666,\"#ed7953\"],[0.7777777777777778,\"#fb9f3a\"],[0.8888888888888888,\"#fdca26\"],[1.0,\"#f0f921\"]]}],\"surface\":[{\"type\":\"surface\",\"colorbar\":{\"outlinewidth\":0,\"ticks\":\"\"},\"colorscale\":[[0.0,\"#0d0887\"],[0.1111111111111111,\"#46039f\"],[0.2222222222222222,\"#7201a8\"],[0.3333333333333333,\"#9c179e\"],[0.4444444444444444,\"#bd3786\"],[0.5555555555555556,\"#d8576b\"],[0.6666666666666666,\"#ed7953\"],[0.7777777777777778,\"#fb9f3a\"],[0.8888888888888888,\"#fdca26\"],[1.0,\"#f0f921\"]]}],\"mesh3d\":[{\"type\":\"mesh3d\",\"colorbar\":{\"outlinewidth\":0,\"ticks\":\"\"}}],\"scatter\":[{\"fillpattern\":{\"fillmode\":\"overlay\",\"size\":10,\"solidity\":0.2},\"type\":\"scatter\"}],\"parcoords\":[{\"type\":\"parcoords\",\"line\":{\"colorbar\":{\"outlinewidth\":0,\"ticks\":\"\"}}}],\"scatterpolargl\":[{\"type\":\"scatterpolargl\",\"marker\":{\"colorbar\":{\"outlinewidth\":0,\"ticks\":\"\"}}}],\"bar\":[{\"error_x\":{\"color\":\"#2a3f5f\"},\"error_y\":{\"color\":\"#2a3f5f\"},\"marker\":{\"line\":{\"color\":\"#E5ECF6\",\"width\":0.5},\"pattern\":{\"fillmode\":\"overlay\",\"size\":10,\"solidity\":0.2}},\"type\":\"bar\"}],\"scattergeo\":[{\"type\":\"scattergeo\",\"marker\":{\"colorbar\":{\"outlinewidth\":0,\"ticks\":\"\"}}}],\"scatterpolar\":[{\"type\":\"scatterpolar\",\"marker\":{\"colorbar\":{\"outlinewidth\":0,\"ticks\":\"\"}}}],\"histogram\":[{\"marker\":{\"pattern\":{\"fillmode\":\"overlay\",\"size\":10,\"solidity\":0.2}},\"type\":\"histogram\"}],\"scattergl\":[{\"type\":\"scattergl\",\"marker\":{\"colorbar\":{\"outlinewidth\":0,\"ticks\":\"\"}}}],\"scatter3d\":[{\"type\":\"scatter3d\",\"line\":{\"colorbar\":{\"outlinewidth\":0,\"ticks\":\"\"}},\"marker\":{\"colorbar\":{\"outlinewidth\":0,\"ticks\":\"\"}}}],\"scattermapbox\":[{\"type\":\"scattermapbox\",\"marker\":{\"colorbar\":{\"outlinewidth\":0,\"ticks\":\"\"}}}],\"scatterternary\":[{\"type\":\"scatterternary\",\"marker\":{\"colorbar\":{\"outlinewidth\":0,\"ticks\":\"\"}}}],\"scattercarpet\":[{\"type\":\"scattercarpet\",\"marker\":{\"colorbar\":{\"outlinewidth\":0,\"ticks\":\"\"}}}],\"carpet\":[{\"aaxis\":{\"endlinecolor\":\"#2a3f5f\",\"gridcolor\":\"white\",\"linecolor\":\"white\",\"minorgridcolor\":\"white\",\"startlinecolor\":\"#2a3f5f\"},\"baxis\":{\"endlinecolor\":\"#2a3f5f\",\"gridcolor\":\"white\",\"linecolor\":\"white\",\"minorgridcolor\":\"white\",\"startlinecolor\":\"#2a3f5f\"},\"type\":\"carpet\"}],\"table\":[{\"cells\":{\"fill\":{\"color\":\"#EBF0F8\"},\"line\":{\"color\":\"white\"}},\"header\":{\"fill\":{\"color\":\"#C8D4E3\"},\"line\":{\"color\":\"white\"}},\"type\":\"table\"}],\"barpolar\":[{\"marker\":{\"line\":{\"color\":\"#E5ECF6\",\"width\":0.5},\"pattern\":{\"fillmode\":\"overlay\",\"size\":10,\"solidity\":0.2}},\"type\":\"barpolar\"}],\"pie\":[{\"automargin\":true,\"type\":\"pie\"}]},\"layout\":{\"autotypenumbers\":\"strict\",\"colorway\":[\"#636efa\",\"#EF553B\",\"#00cc96\",\"#ab63fa\",\"#FFA15A\",\"#19d3f3\",\"#FF6692\",\"#B6E880\",\"#FF97FF\",\"#FECB52\"],\"font\":{\"color\":\"#2a3f5f\"},\"hovermode\":\"closest\",\"hoverlabel\":{\"align\":\"left\"},\"paper_bgcolor\":\"white\",\"plot_bgcolor\":\"#E5ECF6\",\"polar\":{\"bgcolor\":\"#E5ECF6\",\"angularaxis\":{\"gridcolor\":\"white\",\"linecolor\":\"white\",\"ticks\":\"\"},\"radialaxis\":{\"gridcolor\":\"white\",\"linecolor\":\"white\",\"ticks\":\"\"}},\"ternary\":{\"bgcolor\":\"#E5ECF6\",\"aaxis\":{\"gridcolor\":\"white\",\"linecolor\":\"white\",\"ticks\":\"\"},\"baxis\":{\"gridcolor\":\"white\",\"linecolor\":\"white\",\"ticks\":\"\"},\"caxis\":{\"gridcolor\":\"white\",\"linecolor\":\"white\",\"ticks\":\"\"}},\"coloraxis\":{\"colorbar\":{\"outlinewidth\":0,\"ticks\":\"\"}},\"colorscale\":{\"sequential\":[[0.0,\"#0d0887\"],[0.1111111111111111,\"#46039f\"],[0.2222222222222222,\"#7201a8\"],[0.3333333333333333,\"#9c179e\"],[0.4444444444444444,\"#bd3786\"],[0.5555555555555556,\"#d8576b\"],[0.6666666666666666,\"#ed7953\"],[0.7777777777777778,\"#fb9f3a\"],[0.8888888888888888,\"#fdca26\"],[1.0,\"#f0f921\"]],\"sequentialminus\":[[0.0,\"#0d0887\"],[0.1111111111111111,\"#46039f\"],[0.2222222222222222,\"#7201a8\"],[0.3333333333333333,\"#9c179e\"],[0.4444444444444444,\"#bd3786\"],[0.5555555555555556,\"#d8576b\"],[0.6666666666666666,\"#ed7953\"],[0.7777777777777778,\"#fb9f3a\"],[0.8888888888888888,\"#fdca26\"],[1.0,\"#f0f921\"]],\"diverging\":[[0,\"#8e0152\"],[0.1,\"#c51b7d\"],[0.2,\"#de77ae\"],[0.3,\"#f1b6da\"],[0.4,\"#fde0ef\"],[0.5,\"#f7f7f7\"],[0.6,\"#e6f5d0\"],[0.7,\"#b8e186\"],[0.8,\"#7fbc41\"],[0.9,\"#4d9221\"],[1,\"#276419\"]]},\"xaxis\":{\"gridcolor\":\"white\",\"linecolor\":\"white\",\"ticks\":\"\",\"title\":{\"standoff\":15},\"zerolinecolor\":\"white\",\"automargin\":true,\"zerolinewidth\":2},\"yaxis\":{\"gridcolor\":\"white\",\"linecolor\":\"white\",\"ticks\":\"\",\"title\":{\"standoff\":15},\"zerolinecolor\":\"white\",\"automargin\":true,\"zerolinewidth\":2},\"scene\":{\"xaxis\":{\"backgroundcolor\":\"#E5ECF6\",\"gridcolor\":\"white\",\"linecolor\":\"white\",\"showbackground\":true,\"ticks\":\"\",\"zerolinecolor\":\"white\",\"gridwidth\":2},\"yaxis\":{\"backgroundcolor\":\"#E5ECF6\",\"gridcolor\":\"white\",\"linecolor\":\"white\",\"showbackground\":true,\"ticks\":\"\",\"zerolinecolor\":\"white\",\"gridwidth\":2},\"zaxis\":{\"backgroundcolor\":\"#E5ECF6\",\"gridcolor\":\"white\",\"linecolor\":\"white\",\"showbackground\":true,\"ticks\":\"\",\"zerolinecolor\":\"white\",\"gridwidth\":2}},\"shapedefaults\":{\"line\":{\"color\":\"#2a3f5f\"}},\"annotationdefaults\":{\"arrowcolor\":\"#2a3f5f\",\"arrowhead\":0,\"arrowwidth\":1},\"geo\":{\"bgcolor\":\"white\",\"landcolor\":\"#E5ECF6\",\"subunitcolor\":\"white\",\"showland\":true,\"showlakes\":true,\"lakecolor\":\"white\"},\"title\":{\"x\":0.05},\"mapbox\":{\"style\":\"light\"}}},\"ternary\":{\"domain\":{\"x\":[0.0,1.0],\"y\":[0.0,1.0]},\"aaxis\":{\"title\":{\"text\":\"A\"}},\"baxis\":{\"title\":{\"text\":\"W\"}},\"caxis\":{\"title\":{\"text\":\"R\"}}},\"coloraxis\":{\"colorbar\":{\"title\":{\"text\":\"date\"}},\"colorscale\":[[0.0,\"rgb(234, 252, 253)\"],[0.09090909090909091,\"rgb(192, 229, 232)\"],[0.18181818181818182,\"rgb(149, 207, 216)\"],[0.2727272727272727,\"rgb(114, 184, 205)\"],[0.36363636363636365,\"rgb(89, 159, 196)\"],[0.45454545454545453,\"rgb(72, 134, 187)\"],[0.5454545454545454,\"rgb(62, 109, 178)\"],[0.6363636363636364,\"rgb(62, 83, 160)\"],[0.7272727272727273,\"rgb(58, 60, 125)\"],[0.8181818181818182,\"rgb(44, 42, 87)\"],[0.9090909090909091,\"rgb(25, 25, 51)\"],[1.0,\"rgb(3, 5, 18)\"]]},\"legend\":{\"tracegroupgap\":0,\"itemsizing\":\"constant\"},\"margin\":{\"t\":60}},                        {\"responsive\": true}                    ).then(function(){\n",
       "                            \n",
       "var gd = document.getElementById('77699415-1ca9-4704-aa39-54b67ae2c143');\n",
       "var x = new MutationObserver(function (mutations, observer) {{\n",
       "        var display = window.getComputedStyle(gd).display;\n",
       "        if (!display || display === 'none') {{\n",
       "            console.log([gd, 'removed!']);\n",
       "            Plotly.purge(gd);\n",
       "            observer.disconnect();\n",
       "        }}\n",
       "}});\n",
       "\n",
       "// Listen for the removal of the full notebook cells\n",
       "var notebookContainer = gd.closest('#notebook-container');\n",
       "if (notebookContainer) {{\n",
       "    x.observe(notebookContainer, {childList: true});\n",
       "}}\n",
       "\n",
       "// Listen for the clearing of the current output cell\n",
       "var outputEl = gd.closest('.output');\n",
       "if (outputEl) {{\n",
       "    x.observe(outputEl, {childList: true});\n",
       "}}\n",
       "\n",
       "                        })                };                });            </script>        </div>"
      ]
     },
     "metadata": {},
     "output_type": "display_data"
    }
   ],
   "source": [
    "import numpy as np\n",
    "import pandas as pd\n",
    "import matplotlib.pyplot as plt\n",
    "from scipy.stats import dirichlet\n",
    "import plotly.express as px\n",
    "import datetime\n",
    "\n",
    "interviews = [\n",
    "(np.datetime64(\"2022-09-09\"),\"W\"), # wvu - 9/9 waitlist\n",
    "(np.datetime64(\"2022-09-15\"),\"W\"), # etsu - 9/15 waitlist\n",
    "(np.datetime64(\"2022-09-20\"),\"A\"), # SLU - 9/20 acceptance\n",
    "(np.datetime64(\"2022-09-21\"),\"A\"), # geisinger - 9/21 acceptance\n",
    "(np.datetime64(\"2022-09-23\"),\"R\"), # cin - 9/23 rejection\n",
    "(np.datetime64(\"2022-09-27\"),\"W\"), # temple - 9/27 waitlist\n",
    "(np.datetime64(\"2022-09-28\"),\"W\"), # evms - 9/28 waitlist\n",
    "(np.datetime64(\"2022-09-30\"),\"W\"), # einstein - 9/30 waitlist\n",
    "(np.datetime64(\"2022-10-06\"),\"A\"), # michigan - 10/6 acceptance\n",
    "(np.datetime64(\"2022-10-07\"),\"A\"), # drexel - 10/7 acceptance\n",
    "(np.datetime64(\"2022-10-21\"),\"W\"), # vandy - 10/21 waitlist\n",
    "(np.datetime64(\"2022-10-24\"),\"W\"), # wake - 10/24 waitlist\n",
    "(np.datetime64(\"2022-11-01\"),\"A\"), # nymc - 11/1 acceptance\n",
    "(np.datetime64(\"2022-11-03\"),\"W\"), # cornell - 11/3 waitlist\n",
    "(np.datetime64(\"2022-11-15\"),\"A\"), # ut - 11/15 acceptance\n",
    "(np.datetime64(\"2023-03-03\"),\"A\"), # quin - 3/3 acceptance\n",
    "]\n",
    "\n",
    "result_dict = {\n",
    "\"A\": 0,\n",
    "\"W\": 0,\n",
    "\"R\": 0\n",
    "}\n",
    "\n",
    "def scale_date(date):\n",
    "    return int((date-np.datetime64(\"2022-09-01\"))/np.timedelta64(1,'D'))\n",
    "\n",
    "alpha_evolution = [[1,1,1]]\n",
    "dates = [0]\n",
    "means = []\n",
    "var = []\n",
    "\n",
    "for (d,i) in interviews:\n",
    "    dates.append(scale_date(d))\n",
    "    result_dict[i] += 1\n",
    "    alpha_evolution.append([result_dict[\"A\"]+1,result_dict[\"W\"]+1,result_dict[\"R\"]+1])\n",
    "    \n",
    "for alpha in alpha_evolution:\n",
    "    a = np.array(alpha)\n",
    "    means.append(dirichlet.mean(a))\n",
    "    var.append(sum(dirichlet.var(a)))\n",
    "    \n",
    "df = pd.DataFrame(means,columns=['A','W','R'])\n",
    "df['σ²'] = var\n",
    "df['date'] = dates\n",
    "fig = px.scatter_ternary(df,a=\"A\",b=\"W\",c=\"R\",size=\"σ²\",size_max=15,color='date',color_continuous_scale=\"ice_r\")\n",
    "fig.show()\n",
    "# ice, algae, pubu"
   ]
  },
  {
   "cell_type": "code",
   "execution_count": 198,
   "id": "58c8dc8c-04c4-42c4-8035-16860d64394f",
   "metadata": {},
   "outputs": [
    {
     "data": {
      "image/png": "[encoded data removed]",
      "text/plain": [
       "<Figure size 640x480 with 1 Axes>"
      ]
     },
     "metadata": {},
     "output_type": "display_data"
    },
    {
     "data": {
      "image/png": "[encoded data removed]",
      "text/plain": [
       "<Figure size 640x480 with 1 Axes>"
      ]
     },
     "metadata": {},
     "output_type": "display_data"
    }
   ],
   "source": [
    "_ = df.plot.line(y=[\"A\",\"W\",\"R\"],ylim=(0,1))\n",
    "_ = df.plot.line(x=\"date\",ylim=(0,1))"
   ]
  },
  {
   "cell_type": "code",
   "execution_count": 199,
   "id": "6563ae84-2e9d-448a-a23b-1aa6987fd4bf",
   "metadata": {
    "tags": []
   },
   "outputs": [
    {
     "data": {
      "image/png": "[encoded data removed]",
      "text/plain": [
       "<Figure size 640x480 with 1 Axes>"
      ]
     },
     "metadata": {},
     "output_type": "display_data"
    },
    {
     "data": {
      "image/png": "[encoded data removed]",
      "text/plain": [
       "<Figure size 640x480 with 1 Axes>"
      ]
     },
     "metadata": {},
     "output_type": "display_data"
    }
   ],
   "source": [
    "df2 = pd.DataFrame(df[\"A\"],columns=[\"A\",\"W/R\"])\n",
    "df2[\"W/R\"] = df[\"W\"]+df[\"R\"]\n",
    "df2[\"date\"] = df[\"date\"]\n",
    "_ = df2.rolling(window=4,min_periods=4,center=True).mean().plot.line(y=[\"A\",\"W/R\"],ylim=(0,1))\n",
    "_ = df2.rolling(window=4,min_periods=4,center=True).mean().plot.line(x=\"date\",ylim=(0,1))"
   ]
  }
 ],
 "metadata": {
  "kernelspec": {
   "display_name": "Python 3 (ipykernel)",
   "language": "python",
   "name": "python3"
  },
  "language_info": {
   "codemirror_mode": {
    "name": "ipython",
    "version": 3
   },
   "file_extension": ".py",
   "mimetype": "text/x-python",
   "name": "python",
   "nbconvert_exporter": "python",
   "pygments_lexer": "ipython3",
   "version": "3.9.13"
  }
 },
 "nbformat": 4,
 "nbformat_minor": 5
}
